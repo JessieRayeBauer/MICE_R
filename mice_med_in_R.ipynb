{
  "cells": [
    {
      "metadata": {
        "_uuid": "18898e02589a7c7d59752ef0b42958e82f0d30a1"
      },
      "cell_type": "markdown",
      "source": "## Missing Data: Using Multiple Imputation to Conduct a Mediation Analysis in R\nCreated October 8, 2017\n\nMultiple imputation is an extremely helpful and powerful tool when you have missing data. As a child development researcher, my data is particularly prone to missingness. Parents might not want to return to the lab, children get sleepy or fussy- it happens.\n\nHowever, there are ways to successfully and accurately reduce errors and bias caused by missing data. I found an article by Enders (2012) by to be extremely helpful in explaining the benefits of imputation as opposed to case-wise deletion- which is the most common practice in developmental research. \n\nBefore going forward, I used van Buuren's article to help me create the code, think about multiple imputation on a theoretical level, and also decide which parameters to use. I highly recommend you read through his article before pursuing multiple imputation!\n\nFor a recent project, I decided to use multiple imputation. I had rates of missingness ranging from 0% to 23%. Many sources (e.g., Little & Rubin, 2002; Bodner, 2008; White, Royston, & Wood, 2011) suggest creating as many datasets as the average rate of missing. So, in my case, I had an average of 10% missing, so I created 10 imputed datasets. \n \n**Note, if you want your results to be consistent (for sharing or publishing purposes, make sure to set your seed when imputing!)**\n\nUsing the  'mice' package in R was very easy, and I had little trouble generating imputed datasets or pooling them. I also found visualizing the imputed data and comparing it to the original data using the 'VIM' package to be helpful. Using 'mice' to run linear regression models was also fairly simple.\n\nWhere I ran into trouble was using 'mice' and 'lavaan' to run a mediation analysis using my imputed data sets. Here is how I solved it- I hope it helps!\n"
    },
    {
      "metadata": {
        "_uuid": "d4f429ca74297344a63a22d6a482bcb68948c77a",
        "trusted": true,
        "_cell_guid": "d647a23c-69f3-47dc-9ecd-3bd1a4a1c08e"
      },
      "cell_type": "code",
      "source": "### Use multiple imputation to create imputed data and run a mediation\n#Created by Jessie-Raye Bauer, Oct. 2017\n\n#Load Packages\nlibrary(VIM)\nlibrary(mice)\nlibrary(lattice)",
      "execution_count": 1,
      "outputs": [
        {
          "output_type": "stream",
          "text": "Loading required package: colorspace\nLoading required package: grid\nLoading required package: data.table\nVIM is ready to use. \n Since version 4.0.0 the GUI is in its own package VIMGUI.\n\n          Please use the package to use the new (and old) GUI.\n\nSuggestions and bug-reports can be submitted at: https://github.com/alexkowa/VIM/issues\n\nAttaching package: ‘VIM’\n\nThe following object is masked from ‘package:datasets’:\n\n    sleep\n\nLoading required package: lattice\n",
          "name": "stderr"
        }
      ]
    },
    {
      "metadata": {
        "_uuid": "508429fe90ed7e86b38367f926d3e96b3209ae16"
      },
      "cell_type": "markdown",
      "source": "First, load your libraries (download if needed). Next, read in a dataset ('airquality') and create some fake missing data. Then, have a look at the data:"
    },
    {
      "metadata": {
        "trusted": true,
        "_uuid": "41647efde162d2a18788e97203a1b6c51ca6ef66"
      },
      "cell_type": "code",
      "source": "# Use the built-in airquality dataset\ndata <- airquality\n\n#create missing data\ndata[80:81,3] <- rep(NA, 2)\ndata[4:15,3] <- rep(NA,12)\ndata[1:5,2] <- rep(NA, 5)\n\n# Removing categorical variables\ndata <- data[-c(5,6)]\nsummary(data)",
      "execution_count": null,
      "outputs": []
    },
    {
      "metadata": {
        "_uuid": "cff2a5b693fb98e57e1609bdbf658e0eb0f40eec"
      },
      "cell_type": "markdown",
      "source": "Next, let's look at how much data is missing for each variable. Be wary of missing data patterns higher than 5%."
    },
    {
      "metadata": {
        "trusted": true,
        "_uuid": "bae799660eaa929c4921c45a6ff8f8d870524545"
      },
      "cell_type": "code",
      "source": "# Look for missing > 5% variables\npMiss <- function(x){sum(is.na(x))/length(x)*100}\n\n# Check each column\napply(data,2,pMiss)\n\n# Check each row\napply(data,1,pMiss)",
      "execution_count": null,
      "outputs": []
    },
    {
      "metadata": {
        "_uuid": "e170d8b7f4edbc2545af1c226e4ed71bed96c58d"
      },
      "cell_type": "markdown",
      "source": "Now let's visualize our missing data:"
    },
    {
      "metadata": {
        "trusted": true,
        "_uuid": "392642908f38ed8d2aa2d503f84fe86da5974a02"
      },
      "cell_type": "code",
      "source": "# Missing data pattern\nmd.pattern(data)",
      "execution_count": null,
      "outputs": []
    },
    {
      "metadata": {
        "trusted": true,
        "_uuid": "90a8f7323dde0dbd06e1d3793b19ded99a65525b"
      },
      "cell_type": "code",
      "source": "# Plot of missing data pattern\naggr_plot <- aggr(data, col=c('navyblue','red'), numbers=TRUE, sortVars=TRUE, labels=names(data), cex.axis=.7, gap=3, ylab=c(\"Histogram of missing data\",\"Pattern\"))",
      "execution_count": null,
      "outputs": []
    },
    {
      "metadata": {
        "trusted": true,
        "_uuid": "48e8f96fb29f5ef53230a74892995444691fa8ac"
      },
      "cell_type": "code",
      "source": "# Box plot\nmarginplot(data[c(1,2)])",
      "execution_count": null,
      "outputs": []
    },
    {
      "metadata": {
        "_uuid": "be79c3f9fba9011edc7d2482ecc60120769b8914"
      },
      "cell_type": "markdown",
      "source": "Alright, now time to impute!!"
    },
    {
      "metadata": {
        "trusted": true,
        "_uuid": "85c2b9d4d3c235bceb1b0bd6054e284f130969e1"
      },
      "cell_type": "code",
      "source": "# Impute missing data using mice\n#about 10% average missing data, so maxit= 10\ntempData <- mice(data,m=5,maxit=10,meth='pmm',seed=500)\nsummary(tempData)",
      "execution_count": null,
      "outputs": []
    },
    {
      "metadata": {
        "trusted": true,
        "_uuid": "9428afb3e83d59af0b6e41732642be433d423b84"
      },
      "cell_type": "code",
      "source": "# Get imputed data (for the Ozone variable)\ntempData$imp$Ozone",
      "execution_count": null,
      "outputs": []
    },
    {
      "metadata": {
        "trusted": true,
        "_uuid": "dc9beeb2ee498daa037742ebd0e6a2d92544d270"
      },
      "cell_type": "code",
      "source": "# Possible imputation models provided by mice() are\nmethods(mice)",
      "execution_count": null,
      "outputs": []
    },
    {
      "metadata": {
        "trusted": true,
        "_uuid": "563f22e255c7a4a73bf1b69efc3a9b3ac45f4a55"
      },
      "cell_type": "code",
      "source": "# What imputation method did we use?\ntempData$meth",
      "execution_count": null,
      "outputs": []
    },
    {
      "metadata": {
        "trusted": true,
        "_uuid": "2b6bb0bc351e543fae4bb2973020779a688b2c59"
      },
      "cell_type": "code",
      "source": "# Get completed datasets (observed and imputed)\ncompletedData <- complete(tempData,1)\nsummary(completedData)",
      "execution_count": null,
      "outputs": []
    },
    {
      "metadata": {
        "_uuid": "b92a564c514c0a8e962157c1753e97a824fa2de5"
      },
      "cell_type": "markdown",
      "source": "Now, let's have a look at how the new imputed data (in red) looks compared to out original data (in blue). See the van Buren article for guidelines on how to measure goodness of fit for imputed data.\n"
    },
    {
      "metadata": {
        "trusted": true,
        "_uuid": "06084c4abf5ab57fce6c26ecca35557cdf6932bd"
      },
      "cell_type": "code",
      "source": "# Plots of imputed vs. orginal data\n# Scatterplot Ozone vs all\nxyplot(tempData,Ozone ~ Wind+Temp+Solar.R,pch=18,cex=1)",
      "execution_count": null,
      "outputs": []
    },
    {
      "metadata": {
        "trusted": true,
        "_uuid": "8aaa9c441dbdd2d9f7a7bc9e99ef23c807b82055"
      },
      "cell_type": "code",
      "source": "# Density plot original vs imputed dataset\ndensityplot(tempData)",
      "execution_count": null,
      "outputs": []
    },
    {
      "metadata": {
        "trusted": true,
        "_uuid": "126ec796eed7205b67d2836b967a33c188133049"
      },
      "cell_type": "code",
      "source": "# Another take on the density: stripplot()\nstripplot(tempData, pch = 20, cex = 1.2)",
      "execution_count": null,
      "outputs": []
    },
    {
      "metadata": {
        "trusted": true,
        "_uuid": "0db53372a7add0e6973920002a8353fd613aadca"
      },
      "cell_type": "code",
      "source": "# IMPUTE\n# create imputed dataframe\nimp1 <- miceadds::datlist_create(tempData)",
      "execution_count": null,
      "outputs": []
    },
    {
      "metadata": {
        "trusted": true,
        "_uuid": "5ee3e91215be2a001a266b4b0fe24cd5ff16f777"
      },
      "cell_type": "code",
      "source": "#create correlation table\ncorr_mice = miceadds::micombine.cor(mi.res=tempData )\n",
      "execution_count": null,
      "outputs": []
    },
    {
      "metadata": {
        "trusted": true,
        "_uuid": "c99d085d00abfc95a8df6566b68773c1317bdbc0"
      },
      "cell_type": "code",
      "source": "# look at correlation coefficients\nattr(corr_mice, "r_matrix")\n# look at p values\npvals = (corr_mice$p) ",
      "execution_count": null,
      "outputs": []
    },
    {
      "metadata": {
        "_uuid": "e91676c505edfeb97827d20144cecc2cca50ea1a"
      },
      "cell_type": "markdown",
      "source": "Finally- create a data frame from the imputed datasets, create your mediation model, extract and pool your parameters and check your final mediation model!!"
    },
    {
      "metadata": {
        "trusted": true,
        "_uuid": "c07c8b72fa958c78e233c3ef71338e91fdd01a2e"
      },
      "cell_type": "code",
      "source": "# Mediation\n##Create your mediation model\nmediation <- ' \n# direct effect\nTemp ~ cprime*Ozone\n# mediator \nSolar.R ~ a*Ozone\nTemp ~ b*Solar.R\n# indirect effect\nab := a*b\ntotal := cprime + (a*b)\ndirect:= cprime\n'",
      "execution_count": null,
      "outputs": []
    },
    {
      "metadata": {
        "trusted": true,
        "_uuid": "36dae27b986659898ac0cff646ad6b375f09c1de"
      },
      "cell_type": "code",
      "source": "# analysis based on all imputed datasets\nmod6b <- lapply( imp1 , FUN = function(data){\n  res <- lavaan::sem(mediation , data = data )\n  return(res)\n} )",
      "execution_count": null,
      "outputs": []
    },
    {
      "metadata": {
        "trusted": true,
        "_uuid": "985c896a1227d63bf60fbca6443ecb83ac74f941"
      },
      "cell_type": "code",
      "source": "# extract all parameters\nqhat <- lapply( mod6b , FUN = function(ll){\n  h1 <- lavaan::parameterEstimates(ll)\n  parnames <- paste0( h1$lhs , h1$op , h1$rhs )\n  v1 <- h1$est\n  names(v1) <- parnames\n  return(v1)\n} )\nse <- lapply( mod6b , FUN = function(ll){\n  h1 <- lavaan::parameterEstimates(ll)\n  parnames <- paste0( h1$lhs , h1$op , h1$rhs )\n  v1 <- h1$se\n  names(v1) <- parnames\n  return(v1)\n} )\n",
      "execution_count": null,
      "outputs": []
    },
    {
      "metadata": {
        "trusted": true,
        "_uuid": "81049fd98fb39ccd96ae0d2b70dfe1c807020738"
      },
      "cell_type": "code",
      "source": "# use mitml for mediation\nse2 <- lapply( se , FUN = function(ss){ ss^2 } ) # input variances\nresults <- mitml::testEstimates(qhat=qhat, uhat=se2)",
      "execution_count": null,
      "outputs": []
    },
    {
      "metadata": {
        "trusted": true,
        "_uuid": "58537c4dfac1b2d8167119d7ef8975fb16ab8539"
      },
      "cell_type": "code",
      "source": "#look at your results!\nresults",
      "execution_count": null,
      "outputs": []
    },
    {
      "metadata": {
        "_uuid": "7b819d139b93e1ab4b434fee1731e19a1f0e76f5"
      },
      "cell_type": "markdown",
      "source": "We did it! For the full code, see documentation __[here](https://github.com/JessieRayeBauer/MICE_R)__ on GitHub.\nHappy Imputing!\n\nReferences:\n1. Bodner, T. E. (2008). What improves with increased missing data imputations? Structural Equation Modeling, 15(4), 651-675. doi:http://dx.doi.org/10.1080/10705510802339072\n2. Enders, C. K. (2013), Dealing With Missing Data in Developmental Research. Child Dev Perspectives, 7, 27–31. doi:10.1111/cdep.12008\n3. Little, R. J., & Rubin, D. B. (2002). Single imputation methods. Statistical Analysis with Missing Data, Second Edition, 59-74. doi:http://dx.doi.org/10.1002/9781119013563\n4. van Buuren, S., & Groothuis-Oudshoorn, K. (2011). mice: Multivariate Imputation by Chained Equations in R. Journal of Statistical Sotware, 45(3), 1-67. doi:http://dx.doi.org/10.18637/jss.v045.i03\n5. White, I. R., Royston, P., & Wood, A. M. (2011). Multiple imputation using chained equations: issues and guidance for practice. Statistics in Medicine, 30(4), 377-399. doi:http://dx.doi.org/10.1002/sim.4067"
    }
  ],
  "metadata": {
    "kernelspec": {
      "display_name": "R",
      "language": "R",
      "name": "ir"
    },
    "language_info": {
      "mimetype": "text/x-r-source",
      "name": "R",
      "pygments_lexer": "r",
      "version": "3.4.2",
      "file_extension": ".r",
      "codemirror_mode": "r"
    }
  },
  "nbformat": 4,
  "nbformat_minor": 1
}
